{
 "cells": [
  {
   "cell_type": "code",
   "execution_count": 1,
   "id": "7af521bb",
   "metadata": {},
   "outputs": [
    {
     "name": "stdout",
     "output_type": "stream",
     "text": [
      "Hello\n"
     ]
    }
   ],
   "source": [
    "print(\"Hello\")"
   ]
  },
  {
   "cell_type": "code",
   "execution_count": 2,
   "id": "926cd65a",
   "metadata": {},
   "outputs": [
    {
     "data": {
      "text/plain": [
       "30"
      ]
     },
     "execution_count": 2,
     "metadata": {},
     "output_type": "execute_result"
    }
   ],
   "source": [
    "a=10\n",
    "b=20\n",
    "a+b"
   ]
  },
  {
   "cell_type": "code",
   "execution_count": 3,
   "id": "e6b2085e",
   "metadata": {},
   "outputs": [
    {
     "data": {
      "text/plain": [
       "10"
      ]
     },
     "execution_count": 3,
     "metadata": {},
     "output_type": "execute_result"
    }
   ],
   "source": [
    "a\n"
   ]
  },
  {
   "cell_type": "code",
   "execution_count": 4,
   "id": "7a54e52f",
   "metadata": {},
   "outputs": [
    {
     "data": {
      "text/plain": [
       "20"
      ]
     },
     "execution_count": 4,
     "metadata": {},
     "output_type": "execute_result"
    }
   ],
   "source": [
    "a+10"
   ]
  },
  {
   "cell_type": "code",
   "execution_count": 5,
   "id": "6348e3c9",
   "metadata": {},
   "outputs": [
    {
     "data": {
      "text/plain": [
       "50"
      ]
     },
     "execution_count": 5,
     "metadata": {},
     "output_type": "execute_result"
    }
   ],
   "source": [
    "a+b+20\n"
   ]
  },
  {
   "cell_type": "code",
   "execution_count": 6,
   "id": "41e473de",
   "metadata": {},
   "outputs": [
    {
     "name": "stdout",
     "output_type": "stream",
     "text": [
      "10\n"
     ]
    }
   ],
   "source": [
    "print(a)"
   ]
  },
  {
   "cell_type": "code",
   "execution_count": 9,
   "id": "981756b5",
   "metadata": {},
   "outputs": [
    {
     "name": "stdout",
     "output_type": "stream",
     "text": [
      "The value of a is : 30\n"
     ]
    }
   ],
   "source": [
    "print(\"The value of a is :\",a+20\n",
    "     )\n"
   ]
  },
  {
   "cell_type": "code",
   "execution_count": 10,
   "id": "99374aaf",
   "metadata": {},
   "outputs": [
    {
     "name": "stdout",
     "output_type": "stream",
     "text": [
      "<class 'int'> <class 'int'>\n"
     ]
    }
   ],
   "source": [
    "print(type(a),type(b))"
   ]
  },
  {
   "cell_type": "code",
   "execution_count": 12,
   "id": "ca71f3cb",
   "metadata": {},
   "outputs": [
    {
     "name": "stdout",
     "output_type": "stream",
     "text": [
      "<class 'int'>\n"
     ]
    }
   ],
   "source": [
    "c=10\n",
    "print(type(c))"
   ]
  },
  {
   "cell_type": "code",
   "execution_count": 13,
   "id": "edef248f",
   "metadata": {},
   "outputs": [
    {
     "name": "stdout",
     "output_type": "stream",
     "text": [
      "Enter a number10\n"
     ]
    }
   ],
   "source": [
    "a=input(\"Enter a number\")"
   ]
  },
  {
   "cell_type": "code",
   "execution_count": 14,
   "id": "b522cd54",
   "metadata": {},
   "outputs": [
    {
     "name": "stdout",
     "output_type": "stream",
     "text": [
      "<class 'str'>\n"
     ]
    }
   ],
   "source": [
    "print(type(a))"
   ]
  },
  {
   "cell_type": "code",
   "execution_count": 19,
   "id": "87873117",
   "metadata": {},
   "outputs": [],
   "source": [
    "a=int(a)"
   ]
  },
  {
   "cell_type": "code",
   "execution_count": 20,
   "id": "3cc537b0",
   "metadata": {},
   "outputs": [
    {
     "name": "stdout",
     "output_type": "stream",
     "text": [
      "<class 'int'>\n"
     ]
    }
   ],
   "source": [
    "print(type(a))"
   ]
  },
  {
   "cell_type": "code",
   "execution_count": 1,
   "id": "ad654590",
   "metadata": {},
   "outputs": [],
   "source": [
    "age=10\n",
    "Age=15\n",
    "rollno=-1\n",
    "fee=255.50\n",
    "name=\"Narinder Singh Kapany\"\n"
   ]
  },
  {
   "cell_type": "code",
   "execution_count": 2,
   "id": "d018dcaf",
   "metadata": {},
   "outputs": [
    {
     "name": "stdout",
     "output_type": "stream",
     "text": [
      "<class 'int'> <class 'float'> <class 'str'>\n"
     ]
    }
   ],
   "source": [
    "print(type(age),type(fee),type(name))"
   ]
  },
  {
   "cell_type": "code",
   "execution_count": 3,
   "id": "5c019fdd",
   "metadata": {},
   "outputs": [
    {
     "ename": "TypeError",
     "evalue": "type.__new__() argument 1 must be str, not int",
     "output_type": "error",
     "traceback": [
      "\u001b[1;31m---------------------------------------------------------------------------\u001b[0m",
      "\u001b[1;31mTypeError\u001b[0m                                 Traceback (most recent call last)",
      "Cell \u001b[1;32mIn[3], line 1\u001b[0m\n\u001b[1;32m----> 1\u001b[0m \u001b[38;5;28mprint\u001b[39m(\u001b[38;5;28;43mtype\u001b[39;49m\u001b[43m(\u001b[49m\u001b[43mage\u001b[49m\u001b[43m,\u001b[49m\u001b[43mfee\u001b[49m\u001b[43m,\u001b[49m\u001b[43mname\u001b[49m\u001b[43m)\u001b[49m)\n",
      "\u001b[1;31mTypeError\u001b[0m: type.__new__() argument 1 must be str, not int"
     ]
    }
   ],
   "source": [
    "print(type(age,fee,name))"
   ]
  },
  {
   "cell_type": "code",
   "execution_count": 4,
   "id": "6fe20688",
   "metadata": {},
   "outputs": [
    {
     "name": "stdout",
     "output_type": "stream",
     "text": [
      "<class 'int'> 10\n",
      "<class 'float'> 10.5\n",
      "<class 'int'> 10\n",
      "<class 'str'> 10\n"
     ]
    }
   ],
   "source": [
    "age=10\n",
    "print(type(age),age)\n",
    "age=10.5\n",
    "print(type(age),age)\n",
    "age=10\n",
    "print(type(age),age)\n",
    "age=\"10\"\n",
    "print(type(age),age)"
   ]
  },
  {
   "cell_type": "code",
   "execution_count": 5,
   "id": "64c9db5a",
   "metadata": {},
   "outputs": [
    {
     "name": "stdout",
     "output_type": "stream",
     "text": [
      "10\n"
     ]
    },
    {
     "ename": "NameError",
     "evalue": "name 'age' is not defined",
     "output_type": "error",
     "traceback": [
      "\u001b[1;31m---------------------------------------------------------------------------\u001b[0m",
      "\u001b[1;31mNameError\u001b[0m                                 Traceback (most recent call last)",
      "Cell \u001b[1;32mIn[5], line 3\u001b[0m\n\u001b[0;32m      1\u001b[0m \u001b[38;5;28mprint\u001b[39m(age)\n\u001b[0;32m      2\u001b[0m \u001b[38;5;28;01mdel\u001b[39;00m age\n\u001b[1;32m----> 3\u001b[0m \u001b[38;5;28mprint\u001b[39m(\u001b[43mage\u001b[49m)\n",
      "\u001b[1;31mNameError\u001b[0m: name 'age' is not defined"
     ]
    }
   ],
   "source": [
    "print(age)\n",
    "del age\n",
    "print(age)"
   ]
  },
  {
   "cell_type": "code",
   "execution_count": 6,
   "id": "f7efa7b3",
   "metadata": {},
   "outputs": [
    {
     "name": "stdout",
     "output_type": "stream",
     "text": [
      "enter value12\n"
     ]
    }
   ],
   "source": [
    "a=input('enter value')\n",
    "# assignment"
   ]
  },
  {
   "cell_type": "raw",
   "id": "f365b1bc",
   "metadata": {},
   "source": [
    "raman=20;shyam=30;print(raman);"
   ]
  },
  {
   "cell_type": "code",
   "execution_count": 7,
   "id": "6cdeba77",
   "metadata": {},
   "outputs": [
    {
     "name": "stdout",
     "output_type": "stream",
     "text": [
      "20\n"
     ]
    }
   ],
   "source": [
    "raman=20;shyam=30;print(raman);"
   ]
  },
  {
   "cell_type": "code",
   "execution_count": 8,
   "id": "f6485f72",
   "metadata": {},
   "outputs": [
    {
     "ename": "SyntaxError",
     "evalue": "invalid syntax. Maybe you meant '==' or ':=' instead of '='? (692911408.py, line 1)",
     "output_type": "error",
     "traceback": [
      "\u001b[1;36m  Cell \u001b[1;32mIn[8], line 1\u001b[1;36m\u001b[0m\n\u001b[1;33m    raman=20,shyam=30,print(raman);\u001b[0m\n\u001b[1;37m    ^\u001b[0m\n\u001b[1;31mSyntaxError\u001b[0m\u001b[1;31m:\u001b[0m invalid syntax. Maybe you meant '==' or ':=' instead of '='?\n"
     ]
    }
   ],
   "source": [
    "raman=20,shyam=30,print(raman);"
   ]
  },
  {
   "cell_type": "code",
   "execution_count": 9,
   "id": "b4d46f47",
   "metadata": {},
   "outputs": [
    {
     "name": "stdout",
     "output_type": "stream",
     "text": [
      "20\n"
     ]
    }
   ],
   "source": [
    "raman=20;shyam=30,print(raman);#why?"
   ]
  },
  {
   "cell_type": "code",
   "execution_count": 10,
   "id": "bb2ad6d7",
   "metadata": {},
   "outputs": [
    {
     "name": "stdout",
     "output_type": "stream",
     "text": [
      "30\n"
     ]
    }
   ],
   "source": [
    "raman=20;shyam=30;print(shyam);"
   ]
  },
  {
   "cell_type": "code",
   "execution_count": 2,
   "id": "c00f1cd5",
   "metadata": {},
   "outputs": [
    {
     "ename": "NameError",
     "evalue": "name 'shyam' is not defined",
     "output_type": "error",
     "traceback": [
      "\u001b[1;31m---------------------------------------------------------------------------\u001b[0m",
      "\u001b[1;31mNameError\u001b[0m                                 Traceback (most recent call last)",
      "Cell \u001b[1;32mIn[2], line 1\u001b[0m\n\u001b[1;32m----> 1\u001b[0m raman\u001b[38;5;241m=\u001b[39m\u001b[38;5;241m20\u001b[39m;shyam\u001b[38;5;241m=\u001b[39m\u001b[38;5;241m30\u001b[39m,\u001b[38;5;28mprint\u001b[39m(\u001b[43mshyam\u001b[49m)\n",
      "\u001b[1;31mNameError\u001b[0m: name 'shyam' is not defined"
     ]
    }
   ],
   "source": [
    "raman=20;shyam=30,print(shyam);"
   ]
  },
  {
   "cell_type": "code",
   "execution_count": 12,
   "id": "3a29f75c",
   "metadata": {},
   "outputs": [
    {
     "ename": "SyntaxError",
     "evalue": "invalid syntax. Maybe you meant '==' or ':=' instead of '='? (3776915686.py, line 1)",
     "output_type": "error",
     "traceback": [
      "\u001b[1;36m  Cell \u001b[1;32mIn[12], line 1\u001b[1;36m\u001b[0m\n\u001b[1;33m    raman=20,shyam=30,print(raman)\u001b[0m\n\u001b[1;37m    ^\u001b[0m\n\u001b[1;31mSyntaxError\u001b[0m\u001b[1;31m:\u001b[0m invalid syntax. Maybe you meant '==' or ':=' instead of '='?\n"
     ]
    }
   ],
   "source": [
    "raman=20,shyam=30,print(raman)"
   ]
  },
  {
   "cell_type": "code",
   "execution_count": 13,
   "id": "20477dd6",
   "metadata": {},
   "outputs": [
    {
     "ename": "SyntaxError",
     "evalue": "invalid syntax. Maybe you meant '==' or ':=' instead of '='? (1484400120.py, line 1)",
     "output_type": "error",
     "traceback": [
      "\u001b[1;36m  Cell \u001b[1;32mIn[13], line 1\u001b[1;36m\u001b[0m\n\u001b[1;33m    raman=20,shyam=30;print(raman);\u001b[0m\n\u001b[1;37m    ^\u001b[0m\n\u001b[1;31mSyntaxError\u001b[0m\u001b[1;31m:\u001b[0m invalid syntax. Maybe you meant '==' or ':=' instead of '='?\n"
     ]
    }
   ],
   "source": [
    "raman=20,shyam=30;print(raman);"
   ]
  },
  {
   "cell_type": "code",
   "execution_count": 14,
   "id": "7bba810a",
   "metadata": {},
   "outputs": [
    {
     "ename": "SyntaxError",
     "evalue": "unterminated string literal (detected at line 4) (855672654.py, line 1)",
     "output_type": "error",
     "traceback": [
      "\u001b[1;36m  Cell \u001b[1;32mIn[14], line 1\u001b[1;36m\u001b[0m\n\u001b[1;33m    colabis=\"The eight queens problem is the problemof placing eight queens on an 8x8 \\\u001b[0m\n\u001b[1;37m            ^\u001b[0m\n\u001b[1;31mSyntaxError\u001b[0m\u001b[1;31m:\u001b[0m unterminated string literal (detected at line 4)\n"
     ]
    }
   ],
   "source": [
    "colabis=\"The eight queens problem is the problemof placing eight queens on an 8x8 \\\n",
    "chessboard such that none of them attack one another (no two are in the same \\\n",
    "row, column, or diagonal). More generally, the n quens pro bem places n \\\n",
    "qucens on an nin chessboard. \n",
    "\""
   ]
  },
  {
   "cell_type": "code",
   "execution_count": 16,
   "id": "dd0b35a7",
   "metadata": {},
   "outputs": [
    {
     "name": "stdout",
     "output_type": "stream",
     "text": [
      "The eight queens problem is the problemof placing eight queens on an 8x8 chessboard such that none of them attack one another (no two are in the same row, column, or diagonal). More generally, the n quens pro bem places n qucens on an nin chessboard.\n"
     ]
    }
   ],
   "source": [
    "colabis=\"The eight queens problem is the problemof placing eight queens on an 8x8 \\\n",
    "chessboard such that none of them attack one another (no two are in the same \\\n",
    "row, column, or diagonal). More generally, the n quens pro bem places n \\\n",
    "qucens on an nin chessboard.\" \n",
    "\n",
    "print(colabis)"
   ]
  },
  {
   "cell_type": "markdown",
   "id": "9974facb",
   "metadata": {},
   "source": [
    "2**20\n"
   ]
  },
  {
   "cell_type": "code",
   "execution_count": 17,
   "id": "aeec2ebd",
   "metadata": {},
   "outputs": [
    {
     "data": {
      "text/plain": [
       "1048576"
      ]
     },
     "execution_count": 17,
     "metadata": {},
     "output_type": "execute_result"
    }
   ],
   "source": [
    "2**20\n"
   ]
  },
  {
   "cell_type": "code",
   "execution_count": 18,
   "id": "4d6e40df",
   "metadata": {},
   "outputs": [
    {
     "data": {
      "text/plain": [
       "524288"
      ]
     },
     "execution_count": 18,
     "metadata": {},
     "output_type": "execute_result"
    }
   ],
   "source": [
    "2**19\n"
   ]
  },
  {
   "cell_type": "code",
   "execution_count": 19,
   "id": "b00571d7",
   "metadata": {},
   "outputs": [
    {
     "data": {
      "text/plain": [
       "4096"
      ]
     },
     "execution_count": 19,
     "metadata": {},
     "output_type": "execute_result"
    }
   ],
   "source": [
    "2**12"
   ]
  },
  {
   "cell_type": "code",
   "execution_count": 20,
   "id": "6cbe56f0",
   "metadata": {},
   "outputs": [
    {
     "data": {
      "text/plain": [
       "65536"
      ]
     },
     "execution_count": 20,
     "metadata": {},
     "output_type": "execute_result"
    }
   ],
   "source": [
    "2**16\n"
   ]
  },
  {
   "cell_type": "code",
   "execution_count": 21,
   "id": "3cb996a5",
   "metadata": {},
   "outputs": [
    {
     "data": {
      "text/plain": [
       "262144"
      ]
     },
     "execution_count": 21,
     "metadata": {},
     "output_type": "execute_result"
    }
   ],
   "source": [
    "2**18\n"
   ]
  },
  {
   "cell_type": "code",
   "execution_count": 5,
   "id": "523555bb",
   "metadata": {},
   "outputs": [
    {
     "ename": "SyntaxError",
     "evalue": "invalid syntax. Maybe you meant '==' or ':=' instead of '='? (2451055661.py, line 1)",
     "output_type": "error",
     "traceback": [
      "\u001b[1;36m  Cell \u001b[1;32mIn[5], line 1\u001b[1;36m\u001b[0m\n\u001b[1;33m    ram=10,sham=20;print(ram);\u001b[0m\n\u001b[1;37m    ^\u001b[0m\n\u001b[1;31mSyntaxError\u001b[0m\u001b[1;31m:\u001b[0m invalid syntax. Maybe you meant '==' or ':=' instead of '='?\n"
     ]
    }
   ],
   "source": [
    "ram=10;sham=20;print(ram);"
   ]
  },
  {
   "cell_type": "code",
   "execution_count": 8,
   "id": "864df2af",
   "metadata": {},
   "outputs": [
    {
     "name": "stdout",
     "output_type": "stream",
     "text": [
      "(30, None)\n"
     ]
    }
   ],
   "source": [
    "ram=10;sham=20;aman=30,print(aman);"
   ]
  },
  {
   "cell_type": "code",
   "execution_count": 3,
   "id": "df9c9697",
   "metadata": {},
   "outputs": [
    {
     "name": "stdout",
     "output_type": "stream",
     "text": [
      "1 2 3 4 5\n"
     ]
    }
   ],
   "source": [
    "n=12345\n",
    "a=n%10\n",
    "n=n//10\n",
    "b=n%10\n",
    "n=n//10\n",
    "c=n%10\n",
    "n=n//10\n",
    "d=n%10\n",
    "n=n//10\n",
    "e=n%10\n",
    "print(e,d,c,b,a)"
   ]
  },
  {
   "cell_type": "code",
   "execution_count": 14,
   "id": "d07778fd",
   "metadata": {},
   "outputs": [
    {
     "name": "stdout",
     "output_type": "stream",
     "text": [
      "Enter no.10866\n",
      "6\n",
      "6\n",
      "8\n",
      "0\n",
      "1\n"
     ]
    }
   ],
   "source": [
    "n=int(input(\"Enter no.\"))\n",
    "while(n!=0):\n",
    "    a=n%10\n",
    "    n=n//10\n",
    "    print(a)\n"
   ]
  },
  {
   "cell_type": "code",
   "execution_count": 31,
   "id": "0a5a3443",
   "metadata": {},
   "outputs": [
    {
     "name": "stdout",
     "output_type": "stream",
     "text": [
      "6\n"
     ]
    }
   ],
   "source": [
    "cnt=0\n",
    "str1=\"00987349\"\n",
    "n=int(str1)\n",
    "while(n!=0):\n",
    "    a=n%10\n",
    "    n=n//10\n",
    "    cnt=cnt+1\n",
    "print(cnt)"
   ]
  },
  {
   "cell_type": "code",
   "execution_count": 2,
   "id": "0f269597",
   "metadata": {},
   "outputs": [
    {
     "name": "stdout",
     "output_type": "stream",
     "text": [
      "how are\n"
     ]
    }
   ],
   "source": [
    "print(\"how\",end=\" \")\n",
    "print(\"are\")"
   ]
  },
  {
   "cell_type": "code",
   "execution_count": 1,
   "id": "c117d915",
   "metadata": {},
   "outputs": [
    {
     "name": "stdout",
     "output_type": "stream",
     "text": [
      "(3, 1)\n"
     ]
    }
   ],
   "source": [
    "# divmod=return more than one value\n",
    "t=divmod(10,3)\n",
    "print(t)"
   ]
  },
  {
   "cell_type": "code",
   "execution_count": 3,
   "id": "c944185b",
   "metadata": {},
   "outputs": [
    {
     "name": "stdout",
     "output_type": "stream",
     "text": [
      "5\n",
      "1\n",
      "15\n"
     ]
    },
    {
     "ename": "NameError",
     "evalue": "name 'sort' is not defined",
     "output_type": "error",
     "traceback": [
      "\u001b[1;31m---------------------------------------------------------------------------\u001b[0m",
      "\u001b[1;31mNameError\u001b[0m                                 Traceback (most recent call last)",
      "Cell \u001b[1;32mIn[3], line 5\u001b[0m\n\u001b[0;32m      3\u001b[0m \u001b[38;5;28mprint\u001b[39m(\u001b[38;5;28mmin\u001b[39m(a))\n\u001b[0;32m      4\u001b[0m \u001b[38;5;28mprint\u001b[39m(\u001b[38;5;28msum\u001b[39m(a))\n\u001b[1;32m----> 5\u001b[0m \u001b[38;5;28mprint\u001b[39m(\u001b[43msort\u001b[49m(a))\n",
      "\u001b[1;31mNameError\u001b[0m: name 'sort' is not defined"
     ]
    }
   ],
   "source": [
    "a=(1,2,3,4,5)\n",
    "print(max(a))\n",
    "print(min(a))\n",
    "print(sum(a))\n",
    "# print(sort(a))\n"
   ]
  },
  {
   "cell_type": "code",
   "execution_count": 16,
   "id": "bb30b076",
   "metadata": {},
   "outputs": [
    {
     "name": "stdout",
     "output_type": "stream",
     "text": [
      "{0: 'a', 2: 'b', 3: 'c'}\n"
     ]
    }
   ],
   "source": [
    "dict={0:\"a\", 2:\"b\",3:\"c\"}\n",
    "print(dict)"
   ]
  },
  {
   "cell_type": "code",
   "execution_count": 13,
   "id": "843e53b9",
   "metadata": {},
   "outputs": [
    {
     "name": "stdout",
     "output_type": "stream",
     "text": [
      "a\n"
     ]
    }
   ],
   "source": [
    "print(dict[0])"
   ]
  },
  {
   "cell_type": "code",
   "execution_count": 14,
   "id": "d67c54cd",
   "metadata": {},
   "outputs": [
    {
     "name": "stdout",
     "output_type": "stream",
     "text": [
      "a\n"
     ]
    }
   ],
   "source": [
    "print(dict.get(0))#get method to acces value"
   ]
  },
  {
   "cell_type": "code",
   "execution_count": 17,
   "id": "8e1b300b",
   "metadata": {},
   "outputs": [
    {
     "name": "stdout",
     "output_type": "stream",
     "text": [
      "False\n"
     ]
    }
   ],
   "source": [
    "print(all(dict))"
   ]
  },
  {
   "cell_type": "code",
   "execution_count": 18,
   "id": "b3d35d2a",
   "metadata": {},
   "outputs": [
    {
     "name": "stdout",
     "output_type": "stream",
     "text": [
      "{1: None, 2: None}\n"
     ]
    }
   ],
   "source": [
    "# clear(),copy(),fromkeys()-method in dict.\n",
    "dict={0:\"a\", 2:\"b\",3:\"c\"}\n",
    "k={1,2}\n",
    "d=dict.fromkeys(k)\n",
    "print(d)"
   ]
  },
  {
   "cell_type": "code",
   "execution_count": 19,
   "id": "7363d52a",
   "metadata": {},
   "outputs": [
    {
     "name": "stdout",
     "output_type": "stream",
     "text": [
      "dict_items([(0, 'a'), (2, 'b'), (3, 'c')])\n"
     ]
    }
   ],
   "source": [
    "dict={0:\"a\", 2:\"b\",3:\"c\"}\n",
    "print(dict.items())"
   ]
  },
  {
   "cell_type": "code",
   "execution_count": 20,
   "id": "8f174978",
   "metadata": {},
   "outputs": [
    {
     "name": "stdout",
     "output_type": "stream",
     "text": [
      "b\n"
     ]
    }
   ],
   "source": [
    "print(dict.pop(2))"
   ]
  },
  {
   "cell_type": "code",
   "execution_count": 21,
   "id": "df97b77c",
   "metadata": {},
   "outputs": [
    {
     "name": "stdout",
     "output_type": "stream",
     "text": [
      "{0: 'a', 3: 'c'}\n"
     ]
    }
   ],
   "source": [
    "print(dict)"
   ]
  },
  {
   "cell_type": "code",
   "execution_count": 24,
   "id": "7f3c1367",
   "metadata": {},
   "outputs": [
    {
     "name": "stdout",
     "output_type": "stream",
     "text": [
      "{0: 'a', 2: 'b', 3: 'c'}\n"
     ]
    }
   ],
   "source": [
    "dict={0:\"a\", 2:\"b\",3:\"c\"}\n",
    "# del[0]\n",
    "print(dict)"
   ]
  },
  {
   "cell_type": "code",
   "execution_count": 29,
   "id": "fe39fbd4",
   "metadata": {},
   "outputs": [
    {
     "ename": "NameError",
     "evalue": "name 'update' is not defined",
     "output_type": "error",
     "traceback": [
      "\u001b[1;31m---------------------------------------------------------------------------\u001b[0m",
      "\u001b[1;31mNameError\u001b[0m                                 Traceback (most recent call last)",
      "Cell \u001b[1;32mIn[29], line 4\u001b[0m\n\u001b[0;32m      2\u001b[0m \u001b[38;5;28mdict\u001b[39m\u001b[38;5;241m=\u001b[39m{\u001b[38;5;241m0\u001b[39m:\u001b[38;5;124m\"\u001b[39m\u001b[38;5;124ma\u001b[39m\u001b[38;5;124m\"\u001b[39m, \u001b[38;5;241m2\u001b[39m:\u001b[38;5;124m\"\u001b[39m\u001b[38;5;124mb\u001b[39m\u001b[38;5;124m\"\u001b[39m,\u001b[38;5;241m3\u001b[39m:\u001b[38;5;124m\"\u001b[39m\u001b[38;5;124mc\u001b[39m\u001b[38;5;124m\"\u001b[39m}\n\u001b[0;32m      3\u001b[0m dict1\u001b[38;5;241m=\u001b[39m{\u001b[38;5;241m0\u001b[39m:\u001b[38;5;124m'\u001b[39m\u001b[38;5;124mA\u001b[39m\u001b[38;5;124m'\u001b[39m, \u001b[38;5;241m2\u001b[39m:\u001b[38;5;124m'\u001b[39m\u001b[38;5;124mB\u001b[39m\u001b[38;5;124m'\u001b[39m,\u001b[38;5;241m3\u001b[39m:\u001b[38;5;124m\"\u001b[39m\u001b[38;5;124mD\u001b[39m\u001b[38;5;124m\"\u001b[39m}\n\u001b[1;32m----> 4\u001b[0m \u001b[38;5;28mdict\u001b[39m(\u001b[43mupdate\u001b[49m\u001b[38;5;241m.\u001b[39mdict1())\n\u001b[0;32m      5\u001b[0m \u001b[38;5;28mprint\u001b[39m(\u001b[38;5;28mdict\u001b[39m)\n",
      "\u001b[1;31mNameError\u001b[0m: name 'update' is not defined"
     ]
    }
   ],
   "source": [
    "# update method\n",
    "dict={0:\"a\", 2:\"b\",3:\"c\"}\n",
    "dict1={0:'A', 2:'B',3:\"D\"}\n",
    "dict(update.dict1())\n",
    "print(dict)"
   ]
  },
  {
   "cell_type": "code",
   "execution_count": null,
   "id": "0d8f5250",
   "metadata": {},
   "outputs": [],
   "source": [
    "# ASSIGNMENT\n",
    "1. To find the items/value having maximum frequency\n",
    "Write program using list,tuple and dictionary\n"
   ]
  },
  {
   "cell_type": "markdown",
   "id": "5e467737",
   "metadata": {},
   "source": [
    "### FUNCTIONS\n"
   ]
  },
  {
   "cell_type": "code",
   "execution_count": 31,
   "id": "bee3eb85",
   "metadata": {},
   "outputs": [
    {
     "name": "stdout",
     "output_type": "stream",
     "text": [
      "Chandigarh\n"
     ]
    }
   ],
   "source": [
    "# First statement of a function is OPTIONAL STATEMENT\n",
    "# three parts of funtions: name,parameter and return type\n",
    "def udfprint(a):\n",
    "    print(a)\n",
    "udfprint(\"Chandigarh\")\n"
   ]
  },
  {
   "cell_type": "code",
   "execution_count": 33,
   "id": "76472e3f",
   "metadata": {},
   "outputs": [
    {
     "name": "stdout",
     "output_type": "stream",
     "text": [
      "30\n"
     ]
    }
   ],
   "source": [
    "# function to define maximum number \n",
    "def udfmax(a,b):\n",
    "    if a>b:\n",
    "        return a\n",
    "    else :\n",
    "        return b\n",
    "c=udfmax(10,30)\n",
    "print(c)"
   ]
  },
  {
   "cell_type": "code",
   "execution_count": 37,
   "id": "4f707149",
   "metadata": {},
   "outputs": [
    {
     "name": "stdout",
     "output_type": "stream",
     "text": [
      "33\n"
     ]
    }
   ],
   "source": [
    "def udfmax(a,b,c):\n",
    "    if a>b and a>c:\n",
    "        return a\n",
    "    elif b>c:\n",
    "        return b\n",
    "    else :\n",
    "        return c\n",
    "c=udfmax(10,30,33)\n",
    "print(c)"
   ]
  },
  {
   "cell_type": "code",
   "execution_count": 56,
   "id": "e3eac4df",
   "metadata": {},
   "outputs": [
    {
     "name": "stdout",
     "output_type": "stream",
     "text": [
      "Enter the number of elements5\n",
      "enter element45\n",
      "enter element33\n",
      "enter element87\n",
      "enter element90\n",
      "enter element0\n",
      "enter element5\n",
      "[45, 33, 87, 90, 0, 5]\n",
      "90\n"
     ]
    }
   ],
   "source": [
    "def udfmax(l):\n",
    "    max=l[0]\n",
    "    for i in range(len(l)):\n",
    "        if(l[i]>max):\n",
    "            max=l[i]\n",
    "    return max\n",
    "l=[]\n",
    "n=int(input(\"Enter the number of elements\"))\n",
    "for i in range(n+1):\n",
    "    a= int(input(\"enter element\"))\n",
    "    l.append(a)\n",
    "print(l)\n",
    "max=udfmax(l)\n",
    "print(max)"
   ]
  },
  {
   "cell_type": "code",
   "execution_count": 52,
   "id": "54283e6e",
   "metadata": {},
   "outputs": [],
   "source": [
    "# program write a python program to find the area of a circle\n",
    "# area=pi*r*r\n"
   ]
  },
  {
   "cell_type": "code",
   "execution_count": 4,
   "id": "fe299391",
   "metadata": {},
   "outputs": [
    {
     "name": "stdout",
     "output_type": "stream",
     "text": [
      " 2 * 1 = 2\n",
      " 2 * 2 = 4\n",
      " 2 * 3 = 6\n",
      " 2 * 4 = 8\n",
      " 2 * 5 = 10\n",
      " 2 * 6 = 12\n",
      " 2 * 7 = 14\n",
      " 2 * 8 = 16\n",
      " 2 * 9 = 18\n",
      " 2 * 10 = 20\n"
     ]
    }
   ],
   "source": [
    "i=1\n",
    "while (i<=10):\n",
    "    print(\" 2 * \" +str(i) +\" =\",2*i)\n",
    "    i+=1\n"
   ]
  },
  {
   "cell_type": "code",
   "execution_count": 7,
   "id": "35ed49ad",
   "metadata": {},
   "outputs": [
    {
     "name": "stdout",
     "output_type": "stream",
     "text": [
      "Enter a number between 0 and 100 : 0\n",
      "Please enter higher number\n",
      "Enter your higher number50\n",
      "Please enter higher number\n",
      "Enter your higher number70\n",
      "Please enter higher number\n",
      "Enter your higher number90\n",
      "Please enter higher number\n",
      "Enter your higher number95\n",
      "Please enter lower number\n",
      "Enter your lower number93\n",
      "Please enter higher number\n",
      "Enter your higher number94\n",
      "Well done you guess in 7 guesses\n"
     ]
    }
   ],
   "source": [
    "import random \n",
    "num=random.randrange(0,100)\n",
    "\n",
    "n=int(input(\"Enter a number between 0 and 100 : \"))\n",
    "i=1\n",
    "cnt=1\n",
    "    \n",
    "\n",
    "while n!=num:\n",
    "    if n<num :\n",
    "        print(\"Please enter higher number\")\n",
    "        n=int(input(\"Enter your higher number\"))\n",
    "        cnt=cnt+1\n",
    "    else :\n",
    "        \n",
    "        print(\"Please enter lower number\")\n",
    "        n=int(input(\"Enter your lower number\"))\n",
    "        cnt=cnt+1\n",
    "\n",
    "if n==num:\n",
    "        print(\"Well done you guess in \"+str(cnt)+ \" guesses\")\n",
    "        \n",
    "    \n"
   ]
  },
  {
   "cell_type": "markdown",
   "id": "84ee64f3",
   "metadata": {},
   "source": [
    "### list"
   ]
  },
  {
   "cell_type": "code",
   "execution_count": 8,
   "id": "9e7d250b",
   "metadata": {},
   "outputs": [
    {
     "name": "stdout",
     "output_type": "stream",
     "text": [
      "[1, 2, 3, 4]\n"
     ]
    }
   ],
   "source": [
    "l=[1,2,3,4]\n",
    "print(l)\n"
   ]
  },
  {
   "cell_type": "code",
   "execution_count": 12,
   "id": "b0008be9",
   "metadata": {},
   "outputs": [
    {
     "name": "stdout",
     "output_type": "stream",
     "text": [
      "1\n"
     ]
    }
   ],
   "source": [
    "l=[1,2,3,4]\n",
    "print(l[0])\n"
   ]
  },
  {
   "cell_type": "code",
   "execution_count": 6,
   "id": "9c7d7fee",
   "metadata": {},
   "outputs": [
    {
     "name": "stdout",
     "output_type": "stream",
     "text": [
      "30\n",
      "31\n",
      "30\n",
      "30\n",
      "31\n",
      "30\n"
     ]
    }
   ],
   "source": [
    "# Write a program which does the following\n",
    "\n",
    "# You are given a list consisting of 12 integers - the number of days in each month in a year\n",
    "# You need to iterate through the loop and exit the loop if you find any integer which is not 30 or 31\n",
    "# Output this anomaly to the console\n",
    "        \n",
    "days = [30, 31, 30, 30, 31, 30, 20, 30, 31, 30, 31, 30]\n",
    "for i in days:\n",
    "#     print(i)\n",
    "    if i!=30 and i!=31:\n",
    "        break\n",
    "    print(i)\n",
    "    "
   ]
  },
  {
   "cell_type": "code",
   "execution_count": 12,
   "id": "80114014",
   "metadata": {},
   "outputs": [
    {
     "name": "stdout",
     "output_type": "stream",
     "text": [
      "1\n",
      "2\n",
      "3\n",
      "4\n",
      "5\n",
      "6\n",
      "7\n",
      "8\n",
      "9\n",
      "10\n"
     ]
    }
   ],
   "source": [
    "# n = int(input())\n",
    "for i in range(1,11):\n",
    "#     if i==n:\n",
    "#         continue\n",
    "    print(i)"
   ]
  },
  {
   "cell_type": "code",
   "execution_count": 1,
   "id": "075de813",
   "metadata": {},
   "outputs": [
    {
     "name": "stdout",
     "output_type": "stream",
     "text": [
      "False\n"
     ]
    }
   ],
   "source": [
    "a=max(False,-3,-4)\n",
    "b=min(a,2,7)\n",
    "print(b)"
   ]
  },
  {
   "cell_type": "code",
   "execution_count": 6,
   "id": "edffdbe8",
   "metadata": {},
   "outputs": [
    {
     "name": "stdout",
     "output_type": "stream",
     "text": [
      " * Serving Flask app '__main__'\n",
      " * Debug mode: off\n"
     ]
    },
    {
     "name": "stderr",
     "output_type": "stream",
     "text": [
      "WARNING: This is a development server. Do not use it in a production deployment. Use a production WSGI server instead.\n",
      " * Running on http://127.0.0.1:5000\n",
      "Press CTRL+C to quit\n"
     ]
    }
   ],
   "source": [
    "from flask import Flask \n",
    "app = Flask(__name__) \n",
    "@app.route('/') \n",
    "def hello_world():\n",
    "    return 'Hello, World!'\n",
    "def fun():\n",
    "    return 'Welcome in funtion'\n",
    "if __name__ == '__main__': \n",
    "    app.run()\n"
   ]
  },
  {
   "cell_type": "code",
   "execution_count": 1,
   "id": "9c079d13",
   "metadata": {},
   "outputs": [
    {
     "name": "stdout",
     "output_type": "stream",
     "text": [
      "Enter a value:0\n"
     ]
    },
    {
     "ename": "TypeError",
     "evalue": "unsupported operand type(s) for /: 'int' and 'str'",
     "output_type": "error",
     "traceback": [
      "\u001b[1;31m---------------------------------------------------------------------------\u001b[0m",
      "\u001b[1;31mTypeError\u001b[0m                                 Traceback (most recent call last)",
      "Cell \u001b[1;32mIn[1], line 2\u001b[0m\n\u001b[0;32m      1\u001b[0m value\u001b[38;5;241m=\u001b[39m\u001b[38;5;28minput\u001b[39m(\u001b[38;5;124m\"\u001b[39m\u001b[38;5;124mEnter a value:\u001b[39m\u001b[38;5;124m\"\u001b[39m)\n\u001b[1;32m----> 2\u001b[0m \u001b[38;5;28mprint\u001b[39m(\u001b[38;5;241;43m10\u001b[39;49m\u001b[38;5;241;43m/\u001b[39;49m\u001b[43mvalue\u001b[49m)\n",
      "\u001b[1;31mTypeError\u001b[0m: unsupported operand type(s) for /: 'int' and 'str'"
     ]
    }
   ],
   "source": [
    "value=input(\"Enter a value:\")\n",
    "print(10/value)"
   ]
  },
  {
   "cell_type": "code",
   "execution_count": 3,
   "id": "f4c68eb7",
   "metadata": {},
   "outputs": [
    {
     "name": "stdout",
     "output_type": "stream",
     "text": [
      "ENter the first value:kangaroo\n",
      "Enter the second value0\n",
      "4.0\n"
     ]
    }
   ],
   "source": [
    "try:\n",
    "    first_prompt=input(\"ENter the first value:\")\n",
    "    a=len(first_prompt)\n",
    "    second_prompt=input(\"Enter the second value\")\n",
    "    b=len(second_prompt)*2\n",
    "    print(a/b)\n",
    "except ZeroDivisionError:\n",
    "    print(\"Do not divide by zero!\")\n",
    "except ValueError:\n",
    "    print(\"Wrong value.\")\n",
    "except:\n",
    "    print(\"Error.Error.Error.\")"
   ]
  },
  {
   "cell_type": "code",
   "execution_count": 4,
   "id": "f9f3a0d3",
   "metadata": {},
   "outputs": [
    {
     "name": "stdout",
     "output_type": "stream",
     "text": [
      "[3, 2, 1]\n"
     ]
    }
   ],
   "source": [
    "my1=[1,2,3]\n",
    "my2=[]\n",
    "for v in my1:\n",
    "    my2.insert(0,v)\n",
    "print(my2)"
   ]
  },
  {
   "cell_type": "code",
   "execution_count": null,
   "id": "8ab37854",
   "metadata": {},
   "outputs": [],
   "source": []
  }
 ],
 "metadata": {
  "kernelspec": {
   "display_name": "Python 3 (ipykernel)",
   "language": "python",
   "name": "python3"
  },
  "language_info": {
   "codemirror_mode": {
    "name": "ipython",
    "version": 3
   },
   "file_extension": ".py",
   "mimetype": "text/x-python",
   "name": "python",
   "nbconvert_exporter": "python",
   "pygments_lexer": "ipython3",
   "version": "3.10.9"
  }
 },
 "nbformat": 4,
 "nbformat_minor": 5
}
