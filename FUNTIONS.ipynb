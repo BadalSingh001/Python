{
 "cells": [
  {
   "cell_type": "code",
   "execution_count": 7,
   "id": "e58ddfa9",
   "metadata": {},
   "outputs": [
    {
     "name": "stdout",
     "output_type": "stream",
     "text": [
      "Enter number5678\n",
      "8\n",
      "7\n",
      "6\n",
      "5\n"
     ]
    }
   ],
   "source": [
    "# 1. program to print digit of a number\n",
    "def digit(n):\n",
    "    while(n!=0):\n",
    "        a=n%10\n",
    "        n=n//10\n",
    "        print(a)\n",
    "n=int(input(\"Enter number\"))\n",
    "digit(n)"
   ]
  },
  {
   "cell_type": "code",
   "execution_count": 38,
   "id": "465fc461",
   "metadata": {},
   "outputs": [
    {
     "name": "stdout",
     "output_type": "stream",
     "text": [
      "70\n"
     ]
    }
   ],
   "source": [
    "def sum(a,b):\n",
    "    add=a+b\n",
    "    return add\n",
    "a=10\n",
    "b=60\n",
    "print(sum(a,b))#print(70)\n",
    "# print(c)"
   ]
  },
  {
   "cell_type": "code",
   "execution_count": 14,
   "id": "14a5327e",
   "metadata": {},
   "outputs": [
    {
     "name": "stdout",
     "output_type": "stream",
     "text": [
      "Enter number12345\n",
      "15\n"
     ]
    }
   ],
   "source": [
    "# 2.  Program to print sum of digits of a given number:\n",
    "def sum_digit(n):\n",
    "    sum=0\n",
    "    while(n!=0):\n",
    "        a=n%10\n",
    "        n=n//10\n",
    "        sum=sum+a\n",
    "    print(sum)\n",
    "n=int(input(\"Enter number\"))\n",
    "# sum=0\n",
    "sum_digit(n)"
   ]
  },
  {
   "cell_type": "code",
   "execution_count": 16,
   "id": "d1039f5e",
   "metadata": {},
   "outputs": [
    {
     "name": "stdout",
     "output_type": "stream",
     "text": [
      "enter number38659543\n",
      "9\n"
     ]
    }
   ],
   "source": [
    "# 3. Program to find greatest digit in the given number\n",
    "def greatest(n):\n",
    "    max=0\n",
    "    while(n!=0):\n",
    "        a=n%10\n",
    "        n=n//10\n",
    "        if(a>max):\n",
    "            max=a\n",
    "    print(max)\n",
    "n=int(input(\"enter number\"))\n",
    "greatest(n)"
   ]
  },
  {
   "cell_type": "code",
   "execution_count": 24,
   "id": "da5cd20a",
   "metadata": {},
   "outputs": [
    {
     "name": "stdout",
     "output_type": "stream",
     "text": [
      "Enter number99999\n",
      "maximus is  9\n",
      "appearance of maximus is 5\n"
     ]
    }
   ],
   "source": [
    "# 4. In quesstion 3 if greatest digit appear more than once, the count also be displayes\n",
    "def apperance(n):\n",
    "    max=n%10\n",
    "    cnt=0\n",
    "    while(n!=0):\n",
    "        a=n%10\n",
    "        n=n//10\n",
    "        if(a<=max):\n",
    "            if(a==max):\n",
    "                cnt=cnt+1\n",
    "        else :\n",
    "            max=a\n",
    "            cnt=1\n",
    "    print(\"maximus is \",max)\n",
    "    print(\"appearance of maximus is\",cnt)\n",
    "n=int(input(\"Enter number\"))\n",
    "apperance(n)\n"
   ]
  },
  {
   "cell_type": "code",
   "execution_count": 31,
   "id": "6dd51a6e",
   "metadata": {},
   "outputs": [
    {
     "name": "stdout",
     "output_type": "stream",
     "text": [
      "Enter total no5\n",
      "Enter number1\n",
      "1\n",
      "Enter number2\n",
      "2\n",
      "Enter number3\n",
      "3\n",
      "Enter number4\n",
      "4\n",
      "Enter number5\n",
      "5\n",
      "15\n",
      "5\n",
      "1\n",
      "3.0\n"
     ]
    }
   ],
   "source": [
    "# 5. Accept ten numbers from user and at the end print their sum, Average, max and min:\n",
    "def cal(n):\n",
    "    sum=0\n",
    "    for i in range(0,n):\n",
    "        a=int(input(\"Enter number\"))  \n",
    "        if i==0:\n",
    "            max=a\n",
    "            min=a\n",
    "        print(a)\n",
    "        sum=sum+a\n",
    "        if(a>max):\n",
    "            max=a\n",
    "        if(a<min):\n",
    "            min=a\n",
    "    print(sum)\n",
    "    print(max)\n",
    "    print(min)\n",
    "    print(sum/n)\n",
    "n=int(input(\"Enter total no\"))\n",
    "cal(n)"
   ]
  },
  {
   "cell_type": "code",
   "execution_count": 35,
   "id": "877bb9e1",
   "metadata": {},
   "outputs": [
    {
     "name": "stdout",
     "output_type": "stream",
     "text": [
      "Enter the number5\n",
      "      1 \n",
      "    2 2 \n",
      "  3 3 3 \n",
      "4 4 4 4 \n"
     ]
    }
   ],
   "source": [
    "def patt1(n):\n",
    "    for outer in range(1,n):\n",
    "        for space in range(1,n-outer):\n",
    "            print(\" \",end=\" \")\n",
    "        for inner in range(1,outer+1):\n",
    "            print(outer,end=\" \")\n",
    "        print(\"\")\n",
    "n=int(input(\"Enter the number\"))\n",
    "patt1(n)"
   ]
  },
  {
   "cell_type": "code",
   "execution_count": 41,
   "id": "d152d1c2",
   "metadata": {},
   "outputs": [
    {
     "name": "stdout",
     "output_type": "stream",
     "text": [
      "Enter total no5\n",
      "Enter number1\n",
      "1\n",
      "Enter number2\n",
      "2\n",
      "Enter number3\n",
      "3\n",
      "Enter number4\n",
      "4\n",
      "Enter number5\n",
      "5\n",
      "15 5 1\n"
     ]
    }
   ],
   "source": [
    "def cal(n):\n",
    "    sum=0\n",
    "    for i in range(0,n):\n",
    "        a=int(input(\"Enter number\"))  \n",
    "        if i==0:\n",
    "            max=a\n",
    "            min=a\n",
    "        print(a)\n",
    "        sum=sum+a\n",
    "        if(a>max):\n",
    "            max=a\n",
    "        if(a<min):\n",
    "            min=a\n",
    "        \n",
    "    return sum,max,min\n",
    "#     print(sum)\n",
    "#     print(max)\n",
    "#     print(min)\n",
    "#     print(sum/n)\n",
    "\n",
    "\n",
    "n=int(input(\"Enter total no\"))\n",
    "sum,min,max=cal(n)\n",
    "print(sum,min,max)"
   ]
  },
  {
   "cell_type": "code",
   "execution_count": null,
   "id": "ef1553a5",
   "metadata": {},
   "outputs": [],
   "source": []
  }
 ],
 "metadata": {
  "kernelspec": {
   "display_name": "Python 3 (ipykernel)",
   "language": "python",
   "name": "python3"
  },
  "language_info": {
   "codemirror_mode": {
    "name": "ipython",
    "version": 3
   },
   "file_extension": ".py",
   "mimetype": "text/x-python",
   "name": "python",
   "nbconvert_exporter": "python",
   "pygments_lexer": "ipython3",
   "version": "3.10.9"
  }
 },
 "nbformat": 4,
 "nbformat_minor": 5
}
