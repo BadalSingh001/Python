{
 "cells": [
  {
   "cell_type": "code",
   "execution_count": 2,
   "id": "0c2c410a",
   "metadata": {},
   "outputs": [
    {
     "name": "stdout",
     "output_type": "stream",
     "text": [
      "apple\n",
      "apple\n",
      "apple\n",
      "apple\n",
      "5\n"
     ]
    }
   ],
   "source": [
    "cnt=1\n",
    "while cnt<5:\n",
    "    print(\"apple\")\n",
    "    cnt=cnt+1\n",
    "print(cnt)"
   ]
  },
  {
   "cell_type": "markdown",
   "id": "60eb8c44",
   "metadata": {},
   "source": [
    "# Practice Questions\n"
   ]
  },
  {
   "cell_type": "code",
   "execution_count": 3,
   "id": "a3c67233",
   "metadata": {},
   "outputs": [
    {
     "name": "stdout",
     "output_type": "stream",
     "text": [
      "Enter no.00345\n",
      "5\n",
      "4\n",
      "3\n"
     ]
    }
   ],
   "source": [
    "# 1.program to print digits of a number:\n",
    "n=int(input(\"Enter no.\"))\n",
    "while(n!=0):\n",
    "    a=n%10\n",
    "    n=n//10\n",
    "    print(a)\n",
    "# DOUBT- IF NUMBER IS LIKE 00345"
   ]
  },
  {
   "cell_type": "code",
   "execution_count": 3,
   "id": "6ba591b6",
   "metadata": {},
   "outputs": [
    {
     "name": "stdout",
     "output_type": "stream",
     "text": [
      "Enter number33333333\n",
      "24\n"
     ]
    }
   ],
   "source": [
    "# 2. Program to print sum of digits of a given number:\n",
    "n=int(input(\"Enter number\"))\n",
    "sum=0\n",
    "while(n!=0):\n",
    "    a=n%10\n",
    "    n=n//10\n",
    "    sum=sum+a\n",
    "print(sum)"
   ]
  },
  {
   "cell_type": "code",
   "execution_count": 8,
   "id": "084193e1",
   "metadata": {},
   "outputs": [
    {
     "name": "stdout",
     "output_type": "stream",
     "text": [
      "Enter number10987654322345679\n",
      "9\n"
     ]
    }
   ],
   "source": [
    "# 3. Program to find greatest digit in the given number\n",
    "n=int(input(\"Enter number\"))\n",
    "max=0\n",
    "while(n!=0):\n",
    "    a=n%10\n",
    "    n=n//10\n",
    "    if(a>max):\n",
    "        max=a\n",
    "print(max)"
   ]
  },
  {
   "cell_type": "code",
   "execution_count": 2,
   "id": "0d506e80",
   "metadata": {},
   "outputs": [
    {
     "name": "stdout",
     "output_type": "stream",
     "text": [
      "Enter number3000\n",
      "greatest number is:3 and appears 1 times\n"
     ]
    }
   ],
   "source": [
    "# 4. In quesstion 3 if greatest digit appear more than once, the count also be displayes\n",
    "n=int(input(\"Enter number\"))\n",
    "cnt=0\n",
    "max=0\n",
    "while(n!=0):\n",
    "    a=n%10\n",
    "    n=n//10\n",
    "    if(a<=max):\n",
    "        if(max==a):\n",
    "            cnt=cnt+1\n",
    "    else:\n",
    "        max=a\n",
    "        cnt=1\n",
    "print(\"greatest number is:\" +str(max)+ \" and appears \"+ str(cnt)+\" times\")\n",
    "\n",
    "       "
   ]
  },
  {
   "cell_type": "code",
   "execution_count": 1,
   "id": "03feb25b",
   "metadata": {},
   "outputs": [
    {
     "name": "stdout",
     "output_type": "stream",
     "text": [
      "Enter number3000\n",
      "Max3 count3\n"
     ]
    }
   ],
   "source": [
    "# second method for question 4\n",
    "n1=int(input(\"Enter number\"))\n",
    "cnt=0\n",
    "max=n1%10\n",
    "while(n1!=0):\n",
    "    n2=n1%10\n",
    "    n1=n1//10\n",
    "    if(n2==max):\n",
    "        \n",
    "        cnt=cnt+1\n",
    "    if(n2>max):\n",
    "        max=n2\n",
    "print(\"Max{0} count{1}\".format(max,cnt))\n",
    "#??????"
   ]
  },
  {
   "cell_type": "code",
   "execution_count": 38,
   "id": "7dd4fcac",
   "metadata": {},
   "outputs": [
    {
     "name": "stdout",
     "output_type": "stream",
     "text": [
      "Enter numbers5\n",
      "Enter 1 numbers5\n",
      "Enter 2 numbers4\n",
      "Enter 3 numbers6\n",
      "Enter 4 numbers7\n",
      "Enter 5 numbers8\n",
      "maximus number is 8\n",
      "minimum number is 4\n",
      "sum of  numbers is 30\n",
      "average number is 6.0\n"
     ]
    }
   ],
   "source": [
    "# 5. Accept ten numbers from user and at the end print their sum, Average, max and min:\n",
    "n1=int(input(\"Enter numbers\"))\n",
    "sum=0\n",
    "for i in range(n1):\n",
    "    n2=int(input(\"Enter {0} numbers\".format(i+1)))\n",
    "    if(i==0):\n",
    "        max=n2\n",
    "        min=n2\n",
    "    if(n2>max):\n",
    "        max=n2\n",
    "    if(n2<min):\n",
    "        min=n2\n",
    "    sum=sum+n2\n",
    "avg=sum/n1\n",
    "print(\"maximus number is {0}\".format(max))\n",
    "print(\"minimum number is {0}\".format(min))\n",
    "print(\"sum of  numbers is {0}\".format(sum))\n",
    "print(\"average number is {0}\".format(avg))"
   ]
  },
  {
   "cell_type": "code",
   "execution_count": 16,
   "id": "258064c7",
   "metadata": {},
   "outputs": [
    {
     "name": "stdout",
     "output_type": "stream",
     "text": [
      "Enter number5\n",
      "      1 \n",
      "    2 2 \n",
      "  3 3 3 \n",
      "4 4 4 4 \n"
     ]
    }
   ],
   "source": [
    "# 6.(i) write the python program to print the pattern\n",
    "'''\n",
    "b b 1\n",
    "b 2 2 \n",
    "3 3 3 \n",
    "'''\n",
    "n=int(input(\"Enter number\"))\n",
    "for outer in range(1,n):\n",
    "    for space in range(1,n-outer):\n",
    "        print(\" \",end=\" \")\n",
    "    for inner in range(1,outer+1):\n",
    "        print(outer,end=\" \")\n",
    "    print(\"\")"
   ]
  },
  {
   "cell_type": "code",
   "execution_count": 33,
   "id": "d9c55e7f",
   "metadata": {},
   "outputs": [
    {
     "name": "stdout",
     "output_type": "stream",
     "text": [
      "Enter number5\n",
      "1\n",
      "22\n",
      "333\n",
      "4444\n"
     ]
    }
   ],
   "source": [
    "# (ii)\n",
    "'''\n",
    "1\n",
    "22\n",
    "333\n",
    "4444\n",
    "'''\n",
    "n=int(input(\"Enter number\"))\n",
    "for outer in range(1,n):\n",
    "    for space in range(1,outer+1):\n",
    "        print(outer,end=\"\")\n",
    "    print()"
   ]
  },
  {
   "cell_type": "code",
   "execution_count": 40,
   "id": "30f620b4",
   "metadata": {},
   "outputs": [
    {
     "name": "stdout",
     "output_type": "stream",
     "text": [
      "Enter number5\n",
      "55555\n",
      " 4444\n",
      "  333\n",
      "   22\n",
      "    1\n"
     ]
    }
   ],
   "source": [
    "# (iii)\n",
    "'''\n",
    "4444\n",
    " 333\n",
    "  22\n",
    "   1\n",
    "'''\n",
    "n=int(input(\"Enter number\"))\n",
    "for outer in range(n,0,-1):\n",
    "    for space in range(1,n-outer+1):\n",
    "        print(\" \",end=\"\")\n",
    "    for inner in range(1,outer+1):\n",
    "        print(outer ,end=\"\")\n",
    "    print(\"\")"
   ]
  },
  {
   "cell_type": "code",
   "execution_count": 43,
   "id": "5cb0c1c4",
   "metadata": {},
   "outputs": [
    {
     "name": "stdout",
     "output_type": "stream",
     "text": [
      "Enter number5\n",
      "54321\n",
      " 4321\n",
      "  321\n",
      "   21\n",
      "    1\n"
     ]
    }
   ],
   "source": [
    "# (iv)\n",
    "'''\n",
    "54321\n",
    " 4321\n",
    "  321\n",
    "   21\n",
    "    1\n",
    "'''\n",
    "n=int(input(\"Enter number\"))\n",
    "for outer in range(n,0,-1):\n",
    "    for space in range(1,n-outer+1):\n",
    "        print(\" \",end=\"\")\n",
    "    for inner in range(outer,0,-1):\n",
    "        print(inner ,end=\"\")\n",
    "    print(\"\")"
   ]
  },
  {
   "cell_type": "code",
   "execution_count": 6,
   "id": "e9b7991a",
   "metadata": {},
   "outputs": [
    {
     "name": "stdout",
     "output_type": "stream",
     "text": [
      "Enter number5\n",
      "    \n",
      "   1\n",
      "  12\n",
      " 123\n"
     ]
    }
   ],
   "source": [
    "# (v)\n",
    "'''\n",
    "   1\n",
    "  12\n",
    " 123\n",
    "\n",
    "'''\n",
    "n=int(input(\"Enter number\"))\n",
    "for outer in range(1,n):\n",
    "    for space in range(1,n-outer):\n",
    "        print(\" \",end=\"\")\n",
    "    for inner in range(1,outer):\n",
    "        print(inner ,end=\"\")\n",
    "    print(\"\")"
   ]
  },
  {
   "cell_type": "code",
   "execution_count": 17,
   "id": "9db0db65",
   "metadata": {},
   "outputs": [
    {
     "name": "stdout",
     "output_type": "stream",
     "text": [
      "Enter number5\n",
      "   1\n",
      "  121\n",
      " 12321\n",
      "1234321\n"
     ]
    }
   ],
   "source": [
    "# (vi)\n",
    "'''\n",
    "   1\n",
    "  121\n",
    " 12321\n",
    "'''\n",
    "n=int(input(\"Enter number\"))\n",
    "for outer in range(1,n):\n",
    "    for space in range(1,n-outer):\n",
    "        print(\" \",end=\"\")\n",
    "    for inner in range(1,outer+1):\n",
    "        print(inner ,end=\"\")\n",
    "    for back in range(outer-1,0,-1):\n",
    "        print(back,end=\"\")\n",
    "    print(\"\")   "
   ]
  },
  {
   "cell_type": "code",
   "execution_count": 61,
   "id": "009f1702",
   "metadata": {},
   "outputs": [
    {
     "name": "stdout",
     "output_type": "stream",
     "text": [
      "how are\n",
      "10\n",
      "you\n"
     ]
    }
   ],
   "source": [
    "print(\"how\",end=\" \")\n",
    "print(\"are\"+\"you\")\n"
   ]
  },
  {
   "cell_type": "code",
   "execution_count": 26,
   "id": "784e5663",
   "metadata": {},
   "outputs": [
    {
     "name": "stdout",
     "output_type": "stream",
     "text": [
      "Enter number5\n",
      "   1\n",
      "  123\n",
      " 12345\n",
      "1234567\n"
     ]
    }
   ],
   "source": [
    "n=int(input(\"Enter number\"))\n",
    "for outer in range(1,n):\n",
    "    for space in range(1,n-outer):\n",
    "        print(\" \",end=\"\")\n",
    "    for inner in range(1,outer+1):\n",
    "        print(inner ,end=\"\")\n",
    "    for back in range(1,outer):\n",
    "        print(back+outer,end=\"\")\n",
    "    print(\"\")"
   ]
  },
  {
   "cell_type": "markdown",
   "id": "f065d53f",
   "metadata": {},
   "source": [
    "### GAME- GUESS THE NUMBER"
   ]
  },
  {
   "cell_type": "code",
   "execution_count": 1,
   "id": "f554e696",
   "metadata": {},
   "outputs": [
    {
     "name": "stdout",
     "output_type": "stream",
     "text": [
      "Enter a number between 0 and 100 : 56\n",
      "Please enter lower number\n",
      "Enter your lower number44\n",
      "Please enter lower number\n",
      "Enter your lower number20\n",
      "Please enter higher number\n",
      "Enter your higher number30\n",
      "Please enter lower number\n",
      "Enter your lower number25\n",
      "Please enter higher number\n",
      "Enter your higher number27\n",
      "Please enter lower number\n",
      "Enter your lower number26\n",
      "Well done you guess in 7 guesses\n"
     ]
    }
   ],
   "source": [
    "import random \n",
    "num=random.randrange(0,100)\n",
    "\n",
    "n=int(input(\"Enter a number between 0 and 100 : \"))\n",
    "i=1\n",
    "cnt=1\n",
    "    \n",
    "\n",
    "while n!=num:\n",
    "    if n<num :\n",
    "        print(\"Please enter higher number\")\n",
    "        n=int(input(\"Enter your higher number\"))\n",
    "        cnt=cnt+1\n",
    "    else :\n",
    "        \n",
    "        print(\"Please enter lower number\")\n",
    "        n=int(input(\"Enter your lower number\"))\n",
    "        cnt=cnt+1\n",
    "\n",
    "if n==num:\n",
    "        print(\"Well done you guess in \"+str(cnt)+ \" guesses\")\n",
    " "
   ]
  },
  {
   "cell_type": "markdown",
   "id": "984c466a",
   "metadata": {},
   "source": [
    "# CALCULATOR\n"
   ]
  },
  {
   "cell_type": "code",
   "execution_count": null,
   "id": "8b25e1d3",
   "metadata": {},
   "outputs": [],
   "source": [
    "print(\"Please select operation\")\n",
    "print(\"Press 1 for addition\")\n",
    "print(\"Press 2 for subtraction\")\n",
    "print(\"Press 3 for multiplycation\")\n",
    "print(\"Press 4 for division\")\n",
    "option=int(input(\"Enter your choice:\"))\n",
    "number1=eval(input(\"Enter first number: \"))\n",
    "number2=eval(input(\"Enter second number: \"))\n",
    "\n",
    "if option==1:\n",
    "    sum=number1+number2\n",
    "    print(number1,'+',number2,'=',sum)\n",
    "elif option==2:\n",
    "    sub=number1-number2\n",
    "    print(number1,'-',number2,'=',sub)\n",
    "elif option==3:\n",
    "    mul=number1*number2\n",
    "    print(number1,'*',number2,'=',mul)\n",
    "elif option==4:\n",
    "    if number2==0:\n",
    "        print(\"division is not possible with zero\")\n",
    "    else :\n",
    "        div=number1/number2\n",
    "        print(number1,'/',number2,'=',div)\n",
    "else:\n",
    "    print(\"Please enter right option\")\n",
    "\n"
   ]
  },
  {
   "cell_type": "code",
   "execution_count": 13,
   "id": "74517e24",
   "metadata": {},
   "outputs": [
    {
     "name": "stdout",
     "output_type": "stream",
     "text": [
      "Enter first number: 45\n",
      "**************************************\n",
      "Please select operation\n",
      "Press 1 for addition\n",
      "Press 2 for subtraction\n",
      "Press 3 for multiplication\n",
      "Press 4 for division\n",
      "Press 5 for quit\n",
      "**************************************\n",
      "Enter your choice:4\n",
      "Enter another number: 5\n",
      "45 / 5 = 9.0\n",
      "**************************************\n",
      "Please select operation\n",
      "Press 1 for addition\n",
      "Press 2 for subtraction\n",
      "Press 3 for multiplication\n",
      "Press 4 for division\n",
      "Press 5 for quit\n",
      "**************************************\n",
      "Enter your choice:5\n"
     ]
    }
   ],
   "source": [
    "option=0\n",
    "while option!=5:\n",
    "    if option==0:\n",
    "        number1=eval(input(\"Enter first number: \"))\n",
    "    \n",
    "    print(\"**************************************\")\n",
    "    print(\"Please select operation\")\n",
    "    print(\"Press 1 for addition\")\n",
    "    print(\"Press 2 for subtraction\")\n",
    "    print(\"Press 3 for multiplication\")\n",
    "    print(\"Press 4 for division\")\n",
    "    print(\"Press 5 for quit\")\n",
    "    print(\"**************************************\")\n",
    "    option=int(input(\"Enter your choice:\"))\n",
    "    if option!=5:\n",
    "        number2=eval(input(\"Enter another number: \"))\n",
    "    if option==1:\n",
    "        print(number1,end=\" \")\n",
    "        number1=number1+number2\n",
    "        print('+',number2,'=',number1)\n",
    "    elif option==2:\n",
    "        print(number1,end=\" \")\n",
    "        number1=number1-number2\n",
    "        print('-',number2,'=',number1)\n",
    "    elif option==3:\n",
    "        print(number1,end=\" \")\n",
    "        number1=number1*number2\n",
    "        print('*',number2,'=',number1)\n",
    "    elif option==4:\n",
    "        if number2==0:\n",
    "            print(\"division is not possible with zero\")\n",
    "        else :\n",
    "            print(number1,end=\" \")\n",
    "            number1=number1/number2\n",
    "            print('/',number2,'=',number1)\n",
    "    elif option==5:\n",
    "        break\n",
    "\n",
    "    else:\n",
    "        print(\"Please enter right option\")\n",
    "\n"
   ]
  },
  {
   "cell_type": "markdown",
   "id": "b0b92588",
   "metadata": {},
   "source": [
    "### using function\n"
   ]
  },
  {
   "cell_type": "code",
   "execution_count": null,
   "id": "f76738de",
   "metadata": {},
   "outputs": [
    {
     "name": "stdout",
     "output_type": "stream",
     "text": [
      "Enter first number: 2\n",
      "Enter sign: +\n",
      "Enter another number: 2\n",
      "4\n",
      "enter 0 for continue and 1 for quit: 0\n",
      "Enter sign: +\n",
      "Enter another number: 2\n",
      "6\n"
     ]
    }
   ],
   "source": [
    "number1=eval(input(\"Enter first number: \"))\n",
    "def calculator(number):\n",
    "    sign=str(input(\"Enter sign: \"))\n",
    "    number2=eval(input(\"Enter another number: \"))\n",
    "    if sign=='+':\n",
    "        number=number+number2\n",
    "        print(number)\n",
    "    elif sign=='-':\n",
    "        number=number-number2\n",
    "        print(number)\n",
    "    elif sign=='*':\n",
    "        number=number*number2\n",
    "        print(number)\n",
    "    elif sign=='/':\n",
    "        number=number/number2\n",
    "        print(number)\n",
    "    a=int(input(\"enter 0 for continue and 1 for quit: \"))\n",
    "    if a==0:\n",
    "        calculator(number)\n",
    "\n",
    "# if b==1:\n",
    "#     calculator(sign)\n",
    "a=calculator(number1)\n",
    "\n",
    "\n",
    "\n",
    "    "
   ]
  },
  {
   "cell_type": "code",
   "execution_count": 7,
   "id": "05e08d1a",
   "metadata": {},
   "outputs": [
    {
     "name": "stdout",
     "output_type": "stream",
     "text": [
      "Enter namebadal\n",
      "Enter basic pay50000\n",
      "[54000.0, 48000.0]\n"
     ]
    }
   ],
   "source": [
    "def gross_pay(name,bp):\n",
    "    pf=bp*0.12\n",
    "    hra=bp*0.2\n",
    "    if bp<300000:\n",
    "        da=bp*0.2\n",
    "    else:\n",
    "        da=bp*0.3\n",
    "    if hra<=2000:\n",
    "        gspay=bp+da+hra-pf\n",
    "    else:\n",
    "        gspay=bp+da-pf\n",
    "    netpay=gspay-pf\n",
    "    return [gspay,netpay]\n",
    "name=input(\"Enter name\")\n",
    "bp=int(input(\"Enter basic pay\"))\n",
    "gs=gross_pay(name,bp)\n",
    "print(gs)"
   ]
  },
  {
   "cell_type": "code",
   "execution_count": 8,
   "id": "96e5c89b",
   "metadata": {},
   "outputs": [
    {
     "name": "stdout",
     "output_type": "stream",
     "text": [
      "Enter the income500000\n",
      "150000.0\n"
     ]
    }
   ],
   "source": [
    "def income_tax(income):\n",
    "    if income<300000:\n",
    "        pass\n",
    "    elif income >=300000 and income<500000:\n",
    "        income=income*0.2\n",
    "    elif income>=500000 and income<800000:\n",
    "        income=income*0.3\n",
    "    else:\n",
    "        income=income*0.4\n",
    "    return income\n",
    "income=int(input(\"Enter the income\"))\n",
    "inc=income_tax(income)\n",
    "print(inc)"
   ]
  },
  {
   "cell_type": "code",
   "execution_count": null,
   "id": "814a740f",
   "metadata": {},
   "outputs": [],
   "source": []
  }
 ],
 "metadata": {
  "kernelspec": {
   "display_name": "Python 3 (ipykernel)",
   "language": "python",
   "name": "python3"
  },
  "language_info": {
   "codemirror_mode": {
    "name": "ipython",
    "version": 3
   },
   "file_extension": ".py",
   "mimetype": "text/x-python",
   "name": "python",
   "nbconvert_exporter": "python",
   "pygments_lexer": "ipython3",
   "version": "3.10.9"
  }
 },
 "nbformat": 4,
 "nbformat_minor": 5
}
